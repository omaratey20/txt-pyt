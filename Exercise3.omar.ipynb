{
 "cells": [
  {
   "cell_type": "markdown",
   "id": "ba4d8c70-b602-45f4-983d-9761ec42e25e",
   "metadata": {},
   "source": [
    "## Exercise No.3"
   ]
  },
  {
   "cell_type": "markdown",
   "id": "2064f43f-0df3-44a8-a16e-fac5b5515ba9",
   "metadata": {},
   "source": [
    "**1-write program for circle class. This class has the following:**\n",
    "* Attribute: its name is pi with value 3.14\n",
    "* During the object create the raduis attribute is asigned by the raduis of circle\n",
    "* Has two methods to calculate the Area and Circumference of circle"
   ]
  },
  {
   "cell_type": "code",
   "execution_count": 83,
   "id": "16fe6291-a27b-4e01-93ee-2a9956d4f496",
   "metadata": {},
   "outputs": [
    {
     "name": "stdout",
     "output_type": "stream",
     "text": [
      "مساحة الدائرة: 78.5\n",
      "محيط الدائرة: 31.400000000000002\n"
     ]
    }
   ],
   "source": [
    "class Circle:\n",
    "    pi = 3.14\n",
    "    \n",
    "    def __init__(self, radius):\n",
    "        self.radius = radius\n",
    "    \n",
    "    def area(self):\n",
    "        return self.pi * self.radius ** 2\n",
    "    \n",
    "    def circumference(self):\n",
    "        return 2 * self.pi * self.radius\n",
    "\n",
    "# مثال للاستخدام\n",
    "circle = Circle(5)\n",
    "print(\"مساحة الدائرة:\", circle.area())\n",
    "print(\"محيط الدائرة:\", circle.circumference())"
   ]
  },
  {
   "cell_type": "markdown",
   "id": "fd47b546-5a34-4693-a188-e4f5fb43ef55",
   "metadata": {},
   "source": [
    "**2. Write a program for a Rectangle class.**\n",
    "\n",
    "Attributes: length and width (set through constructor)\n",
    "\n",
    "Methods:\n",
    "\n",
    "area() – returns the area\n",
    "\n",
    "perimeter() – returns the perimeter"
   ]
  },
  {
   "cell_type": "code",
   "execution_count": 85,
   "id": "777f48bb-cc81-4262-b1cf-54ff9dc4387e",
   "metadata": {},
   "outputs": [
    {
     "name": "stdout",
     "output_type": "stream",
     "text": [
      "مساحة المستطيل: 24\n",
      "محيط المستطيل: 20\n"
     ]
    }
   ],
   "source": [
    "class Rectangle:\n",
    "    def __init__(self, length, width):\n",
    "        self.length = length\n",
    "        self.width = width\n",
    "    \n",
    "    def area(self):\n",
    "        return self.length * self.width\n",
    "    \n",
    "    def perimeter(self):\n",
    "        return 2 * (self.length + self.width)\n",
    "\n",
    "# مثال للاستخدام\n",
    "rect = Rectangle(4, 6)\n",
    "print(\"مساحة المستطيل:\", rect.area())\n",
    "print(\"محيط المستطيل:\", rect.perimeter())"
   ]
  },
  {
   "cell_type": "markdown",
   "id": "f7831422-c199-4cfd-88a6-b989997b4911",
   "metadata": {},
   "source": [
    "**3-Write a program for an Employee class using class method.**\n",
    "Attributes: name and salary\n",
    "\n",
    "Class attribute: company_name\n",
    "\n",
    "Use a class method to change the company_name for all employees"
   ]
  },
  {
   "cell_type": "code",
   "execution_count": 87,
   "id": "ab1d730c-f144-4beb-b89a-128b929de223",
   "metadata": {},
   "outputs": [
    {
     "name": "stdout",
     "output_type": "stream",
     "text": [
      "أحمد يعمل في شركة التقنية براتب 5000\n",
      "محمد يعمل في شركة التقنية براتب 6000\n",
      "أحمد يعمل في شركة البرمجة الجديدة براتب 5000\n",
      "محمد يعمل في شركة البرمجة الجديدة براتب 6000\n"
     ]
    }
   ],
   "source": [
    "class Employee:\n",
    "    company_name = \"شركة التقنية\"\n",
    "    \n",
    "    def __init__(self, name, salary):\n",
    "        self.name = name\n",
    "        self.salary = salary\n",
    "    \n",
    "    @classmethod\n",
    "    def change_company(cls, new_name):\n",
    "        cls.company_name = new_name\n",
    "    \n",
    "    def display(self):\n",
    "        print(f\"{self.name} يعمل في {self.company_name} براتب {self.salary}\")\n",
    "\n",
    "# مثال للاستخدام\n",
    "emp1 = Employee(\"أحمد\", 5000)\n",
    "emp2 = Employee(\"محمد\", 6000)\n",
    "\n",
    "emp1.display()\n",
    "emp2.display()\n",
    "\n",
    "Employee.change_company(\"شركة البرمجة الجديدة\")\n",
    "\n",
    "emp1.display()\n",
    "emp2.display()"
   ]
  },
  {
   "cell_type": "markdown",
   "id": "354fa199-a3c8-4ea6-ae2e-79ed45c7f0bc",
   "metadata": {},
   "source": [
    "**4- Create a Shape class and two child classes Square and Circle.**\n",
    "\n",
    "Use polymorphism to define a method area()\n",
    "\n",
    "Use a loop to calculate area for both shapes using a common function"
   ]
  },
  {
   "cell_type": "code",
   "execution_count": 89,
   "id": "bf830856-cfcb-4cdc-a2c1-8dd3e0187b4a",
   "metadata": {},
   "outputs": [
    {
     "name": "stdout",
     "output_type": "stream",
     "text": [
      "مساحة الشكل: 16\n",
      "مساحة الشكل: 78.5\n"
     ]
    }
   ],
   "source": [
    "class Shape:\n",
    "    def area(self):\n",
    "        pass\n",
    "\n",
    "class Square(Shape):\n",
    "    def __init__(self, side):\n",
    "        self.side = side\n",
    "    \n",
    "    def area(self):\n",
    "        return self.side ** 2\n",
    "\n",
    "class Circle(Shape):\n",
    "    def __init__(self, radius):\n",
    "        self.radius = radius\n",
    "    \n",
    "    def area(self):\n",
    "        return 3.14 * self.radius ** 2\n",
    "\n",
    "def calculate_area(shape):\n",
    "    return shape.area()\n",
    " \n",
    "shapes = [Square(4), Circle(5)]\n",
    "\n",
    "for shape in shapes:\n",
    "    print(\"مساحة الشكل:\", calculate_area(shape))"
   ]
  },
  {
   "cell_type": "markdown",
   "id": "ff656a62-e1e0-4855-8aab-65c6af6f60c5",
   "metadata": {},
   "source": [
    "**5-Create a 1D NumPy array of numbers from 0 to 9**"
   ]
  },
  {
   "cell_type": "code",
   "execution_count": 69,
   "id": "970e1166-98d8-458d-8d0a-dd08a78741bb",
   "metadata": {},
   "outputs": [
    {
     "name": "stdout",
     "output_type": "stream",
     "text": [
      "[0 1 2 3 4 5 6 7 8 9]\n"
     ]
    }
   ],
   "source": [
    "import numpy as np\n",
    "\n",
    "arr = np.arange(10)\n",
    "print(arr)"
   ]
  },
  {
   "cell_type": "markdown",
   "id": "e50cfc0f-df3a-41a0-ba8c-447917bea0f1",
   "metadata": {},
   "source": [
    "**6-Create a 4x4 NumPy array of all True values**"
   ]
  },
  {
   "cell_type": "code",
   "execution_count": 71,
   "id": "671c5ee9-fbd8-4d53-bca2-30e5b9a76b7e",
   "metadata": {},
   "outputs": [
    {
     "name": "stdout",
     "output_type": "stream",
     "text": [
      "[[ True  True  True  True]\n",
      " [ True  True  True  True]\n",
      " [ True  True  True  True]\n",
      " [ True  True  True  True]]\n"
     ]
    }
   ],
   "source": [
    "import numpy as np\n",
    "\n",
    "arr = np.ones((4, 4), dtype=bool)\n",
    "print(arr)"
   ]
  },
  {
   "cell_type": "markdown",
   "id": "561875e4-753d-4cc9-9059-4ccacc377500",
   "metadata": {},
   "source": [
    "**7-Create an array of 10 random floats between 0 and 1**"
   ]
  },
  {
   "cell_type": "code",
   "execution_count": 73,
   "id": "ef07ffcc-dfbd-4064-99d6-2e08ed66f3ab",
   "metadata": {},
   "outputs": [
    {
     "name": "stdout",
     "output_type": "stream",
     "text": [
      "[0.45793777 0.77513271 0.59890477 0.17327077 0.13164529 0.58672169\n",
      " 0.33601098 0.19899445 0.76683927 0.45866058]\n"
     ]
    }
   ],
   "source": [
    "import numpy as np\n",
    "\n",
    "arr = np.random.rand(10)\n",
    "print(arr)"
   ]
  },
  {
   "cell_type": "markdown",
   "id": "65aeb073-35e1-42b6-afaa-41cb2365fb61",
   "metadata": {},
   "source": [
    "**8-Create a NumPy array of even numbers from 2 to 20**"
   ]
  },
  {
   "cell_type": "code",
   "execution_count": 75,
   "id": "f8f471e4-490c-4e2c-9a04-6356c55b5c98",
   "metadata": {},
   "outputs": [
    {
     "name": "stdout",
     "output_type": "stream",
     "text": [
      "[ 2  4  6  8 10 12 14 16 18 20]\n"
     ]
    }
   ],
   "source": [
    "import numpy as np\n",
    "\n",
    "arr = np.arange(2, 21, 2)\n",
    "print(arr)"
   ]
  },
  {
   "cell_type": "markdown",
   "id": "3d9bd0c4-c80e-41f4-a553-8a2ba05ac7fc",
   "metadata": {},
   "source": [
    "**9-Get the maximum, minimum, and mean of an random array**"
   ]
  },
  {
   "cell_type": "code",
   "execution_count": 77,
   "id": "4062990a-ba6c-46c9-870b-3b21e30fba41",
   "metadata": {},
   "outputs": [
    {
     "name": "stdout",
     "output_type": "stream",
     "text": [
      "المصفوفة: [0.49473552 0.18910637 0.55588472 0.16266525 0.34106587 0.1580862\n",
      " 0.44408911 0.16056488 0.99193289 0.40047668]\n",
      "القيمة العظمى: 0.9919328867023604\n",
      "القيمة الصغرى: 0.1580861970448012\n",
      "المتوسط: 0.3898607484625602\n"
     ]
    }
   ],
   "source": [
    "import numpy as np\n",
    "\n",
    "arr = np.random.rand(10)\n",
    "print(\"المصفوفة:\", arr)\n",
    "print(\"القيمة العظمى:\", np.max(arr))\n",
    "print(\"القيمة الصغرى:\", np.min(arr))\n",
    "print(\"المتوسط:\", np.mean(arr))"
   ]
  },
  {
   "cell_type": "markdown",
   "id": "965439c7-cd2d-491f-820e-e154857ec595",
   "metadata": {},
   "source": [
    "**10-Flatten a 2D array to 1D**"
   ]
  },
  {
   "cell_type": "code",
   "execution_count": 79,
   "id": "9ec0dcf6-8888-4e6c-9177-1964be39b02d",
   "metadata": {},
   "outputs": [
    {
     "name": "stdout",
     "output_type": "stream",
     "text": [
      "المصفوفة الأصلية:\n",
      "[[1 2]\n",
      " [3 4]]\n",
      "المصفوفة المسطحة:\n",
      "[1 2 3 4]\n"
     ]
    }
   ],
   "source": [
    "import numpy as np\n",
    "\n",
    "arr2d = np.array([[1, 2], [3, 4]])\n",
    "arr1d = arr2d.flatten()\n",
    "print(\"المصفوفة الأصلية:\")\n",
    "print(arr2d)\n",
    "print(\"المصفوفة المسطحة:\")\n",
    "print(arr1d)"
   ]
  }
 ],
 "metadata": {
  "kernelspec": {
   "display_name": "Python [conda env:base] *",
   "language": "python",
   "name": "conda-base-py"
  },
  "language_info": {
   "codemirror_mode": {
    "name": "ipython",
    "version": 3
   },
   "file_extension": ".py",
   "mimetype": "text/x-python",
   "name": "python",
   "nbconvert_exporter": "python",
   "pygments_lexer": "ipython3",
   "version": "3.12.7"
  }
 },
 "nbformat": 4,
 "nbformat_minor": 5
}
