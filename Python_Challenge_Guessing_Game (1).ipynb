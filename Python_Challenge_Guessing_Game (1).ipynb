{
 "cells": [
  {
   "cell_type": "markdown",
   "metadata": {
    "id": "NQuOyznPahpH"
   },
   "source": [
    "# \n",
    "Guessing Game Challenge\n",
    "\n",
    "Let's use `while` loops to create a guessing game.\n",
    "\n",
    "The Challenge:\n",
    "\n",
    "Write a program that picks a random integer from 1 to 100, and has players guess the number. The rules are:\n",
    "\n",
    "1. If a player's guess is less than 1 or greater than 100, say \"OUT OF BOUNDS\"\n",
    "\n",
    "2. On all turns, if a guess is\n",
    " * closer to the number than the previous guess return \"Closer!\"\n",
    " * farther from the number than the previous guess, return \"Farther!\"\n",
    " * if a player want to end, he\\she  presses \"E\" key, return \"End Good bye!\"\n",
    "3. When the player's guess equals the number, tell them they've guessed correctly *and* how many guesses it took!\n",
    "4. print the rules of game in the start.\n",
    "\n"
   ]
  },
  {
   "cell_type": "markdown",
   "metadata": {
    "id": "HlHfgyZ9ahpc"
   },
   "source": [
    "### Good Job!"
   ]
  },
  {
   "cell_type": "code",
   "execution_count": 1,
   "metadata": {},
   "outputs": [
    {
     "name": "stdout",
     "output_type": "stream",
     "text": [
      "\n",
      "    ===== Welcome to the Guessing Game! =====\n",
      "    Rules:\n",
      "    1. I'm thinking of a number between 1 and 100\n",
      "    2. If your guess is less than 1 or greater than 100, I'll say \"OUT OF BOUNDS\"\n",
      "    3. On each turn:\n",
      "       - If your guess is closer than previous guess: \"Closer!\"\n",
      "       - If your guess is farther than previous guess: \"Farther!\"\n",
      "       - Press 'E' to exit the game\n",
      "    4. When you guess correctly, I'll tell you how many tries it took!\n",
      "    \n"
     ]
    },
    {
     "name": "stdin",
     "output_type": "stream",
     "text": [
      "Guess a number between 1 and 100 (or 'E' to exit):  12\n"
     ]
    },
    {
     "name": "stdout",
     "output_type": "stream",
     "text": [
      "WARM!\n"
     ]
    },
    {
     "name": "stdin",
     "output_type": "stream",
     "text": [
      "Guess a number between 1 and 100 (or 'E' to exit):  20\n"
     ]
    },
    {
     "name": "stdout",
     "output_type": "stream",
     "text": [
      "Closer!\n"
     ]
    },
    {
     "name": "stdin",
     "output_type": "stream",
     "text": [
      "Guess a number between 1 and 100 (or 'E' to exit):  10\n"
     ]
    },
    {
     "name": "stdout",
     "output_type": "stream",
     "text": [
      "Farther!\n"
     ]
    },
    {
     "name": "stdin",
     "output_type": "stream",
     "text": [
      "Guess a number between 1 and 100 (or 'E' to exit):  10\n"
     ]
    },
    {
     "name": "stdout",
     "output_type": "stream",
     "text": [
      "Farther!\n"
     ]
    },
    {
     "name": "stdin",
     "output_type": "stream",
     "text": [
      "Guess a number between 1 and 100 (or 'E' to exit):  5\n"
     ]
    },
    {
     "name": "stdout",
     "output_type": "stream",
     "text": [
      "Farther!\n"
     ]
    },
    {
     "name": "stdin",
     "output_type": "stream",
     "text": [
      "Guess a number between 1 and 100 (or 'E' to exit):  5\n"
     ]
    },
    {
     "name": "stdout",
     "output_type": "stream",
     "text": [
      "Farther!\n"
     ]
    },
    {
     "name": "stdin",
     "output_type": "stream",
     "text": [
      "Guess a number between 1 and 100 (or 'E' to exit):  25\n"
     ]
    },
    {
     "name": "stdout",
     "output_type": "stream",
     "text": [
      "Closer!\n"
     ]
    },
    {
     "name": "stdin",
     "output_type": "stream",
     "text": [
      "Guess a number between 1 and 100 (or 'E' to exit):  e\n"
     ]
    },
    {
     "name": "stdout",
     "output_type": "stream",
     "text": [
      "End. Good bye!\n"
     ]
    }
   ],
   "source": [
    "import random\n",
    "\n",
    "def guessing_game():\n",
    "    \n",
    "    print(\"\"\"\n",
    "    ===== Welcome to the Guessing Game! =====\n",
    "    Rules:\n",
    "    1. I'm thinking of a number between 1 and 100\n",
    "    2. If your guess is less than 1 or greater than 100, I'll say \"OUT OF BOUNDS\"\n",
    "    3. On each turn:\n",
    "       - If your guess is closer than previous guess: \"Closer!\"\n",
    "       - If your guess is farther than previous guess: \"Farther!\"\n",
    "       - Press 'E' to exit the game\n",
    "    4. When you guess correctly, I'll tell you how many tries it took!\n",
    "    \"\"\")\n",
    "    \n",
    "    secret_number = random.randint(1, 100)\n",
    "    previous_guess = None\n",
    "    previous_distance = None\n",
    "    guess_count = 0\n",
    "    \n",
    "    while True:\n",
    "        guess = input(\"Guess a number between 1 and 100 (or 'E' to exit): \").strip()\n",
    "        \n",
    "        if guess.upper() == 'E':\n",
    "            print(\"End. Good bye!\")\n",
    "            break\n",
    "    \n",
    "        if not guess.isdigit():\n",
    "            print(\"Please enter a valid number or 'E' to exit!\")\n",
    "            continue\n",
    "        \n",
    "        guess = int(guess)\n",
    "        guess_count += 1\n",
    "        \n",
    "        if guess < 1 or guess > 100:\n",
    "            print(\"OUT OF BOUNDS\")\n",
    "            continue\n",
    "        \n",
    "        if guess == secret_number:\n",
    "            print(f\"Congratulations! You've guessed the number in {guess_count} tries!\")\n",
    "            break\n",
    "        \n",
    "        current_distance = abs(guess - secret_number)\n",
    "        \n",
    "        if previous_guess is None:\n",
    "            \n",
    "            if current_distance <= 10:\n",
    "                print(\"WARM!\")\n",
    "            else:\n",
    "                print(\"COLD!\")\n",
    "        else:\n",
    "\n",
    "            if current_distance < previous_distance:\n",
    "                print(\"Closer!\")\n",
    "            else:\n",
    "                print(\"Farther!\")\n",
    "        \n",
    "\n",
    "        previous_guess = guess\n",
    "        previous_distance = current_distance\n",
    "\n",
    "\n",
    "guessing_game()"
   ]
  },
  {
   "cell_type": "code",
   "execution_count": null,
   "metadata": {},
   "outputs": [],
   "source": []
  }
 ],
 "metadata": {
  "colab": {
   "provenance": []
  },
  "kernelspec": {
   "display_name": "Python [conda env:base] *",
   "language": "python",
   "name": "conda-base-py"
  },
  "language_info": {
   "codemirror_mode": {
    "name": "ipython",
    "version": 3
   },
   "file_extension": ".py",
   "mimetype": "text/x-python",
   "name": "python",
   "nbconvert_exporter": "python",
   "pygments_lexer": "ipython3",
   "version": "3.12.7"
  }
 },
 "nbformat": 4,
 "nbformat_minor": 4
}
